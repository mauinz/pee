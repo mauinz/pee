{
 "cells": [
  {
   "cell_type": "markdown",
   "metadata": {
    "collapsed": true
   },
   "source": [
    "Let $S(k)$ be the sum of three or more distinct positive integers having the following properties:\n",
    "\n",
    "\n",
    "No value exceeds k.\n",
    "The values form a geometric progression.\n",
    "The sum is maximal.\n",
    "\n",
    "$S(4) = 4 + 2 + 1 = 7$\n",
    "\n",
    "$S(10) = 9 + 6 + 4 = 19$\n",
    "\n",
    "$S(12) = 12 + 6 + 3 = 21$\n",
    "\n",
    "$S(1000) = 1000 + 900 + 810 + 729 = 3439$\n",
    "\n",
    "Let $T(n)= \\sum_{k=4}^{n}(−1)^{k}S(k)$.\n",
    "\n",
    "$T(1000) = 2268$\n",
    "\n",
    "Find $T(10^17)$."
   ]
  },
  {
   "cell_type": "markdown",
   "metadata": {},
   "source": [
    "### Facts\n",
    "\n",
    "$S(k) = n(1 + r + r^2)$\n",
    "\n",
    "For a geometric series $(nr^2, nr, n) = (a, b, c)$ we have that $b^2 = ac$\n",
    "\n",
    "### Ideas\n",
    "##### 3 case \n",
    "Find the prime decomposition of $k = p_1^{\\gamma_1} \\cdot ... \\cdot p_l^{\\gamma_l}$ and find the smallest square we can take out, let $k'$ be $k$ divided by this smallest factor. This insures that $k \\cdot k'$ is still square. This is our first best guess at $c$ (since we know $ac$ is definately square by this procedure). Then find the factor $f = \\frac{k}{k'}$, we know that $fk' \\leq k$. so we can find the largest square number $\\hat{f} \\leq f$ and we have that (obviously) $\\hat{f}k' \\leq k'$ and since $\\hat{f}$ is square $\\hat{f}k'k$ is also still square and $b = \\sqrt{\\hat{f}k'k}$"
   ]
  },
  {
   "cell_type": "code",
   "execution_count": 139,
   "metadata": {
    "collapsed": false
   },
   "outputs": [],
   "source": [
    "import numpy as np\n",
    "from __future__ import division"
   ]
  },
  {
   "cell_type": "code",
   "execution_count": 140,
   "metadata": {
    "collapsed": false
   },
   "outputs": [],
   "source": [
    "# Helper function to get prime decomposition\n",
    "def get_primes(n):\n",
    "    prim_fac = []\n",
    "    d = 2\n",
    "    while d*d <= n:\n",
    "        while (n % d) == 0:\n",
    "            prim_fac.append(d)  # supposing you want multiple factors repeated\n",
    "            n //= d\n",
    "        d += 1\n",
    "    if n > 1:\n",
    "       prim_fac.append(n)\n",
    "    return prim_fac\n",
    "\n",
    "def prime_counts(n):\n",
    "    prim_fac = get_primes(n)\n",
    "    unique = np.unique(prim_fac)\n",
    "    counts = [prim_fac.count(p) for p in unique]\n",
    "    return unique, counts\n",
    "\n",
    "def make_small(counts):\n",
    "    # we are going to find the smallest power of 2 and subtract it \n",
    "    for i in range(len(counts)):\n",
    "        if counts[i] > 1:\n",
    "            counts[i] = counts[i] - 2\n",
    "    return counts\n",
    "def make_even(counts):\n",
    "    return [count - (count % 2) for count in counts]\n",
    "\n",
    "def multiply(prime_nums, counts):\n",
    "    prod = 1\n",
    "    for i in range(len(prime_nums)):\n",
    "        prod *= prime_nums[i] ** counts[i]\n",
    "    return prod\n",
    "\n",
    "def smallest_square(n):\n",
    "    for i in range(int(n)):\n",
    "        if i**2 >= n:\n",
    "            return i - 1\n",
    "    return 1"
   ]
  },
  {
   "cell_type": "code",
   "execution_count": 141,
   "metadata": {
    "collapsed": false
   },
   "outputs": [],
   "source": [
    "def s(k):\n",
    "    # Base case\n",
    "    if k == 4:\n",
    "        return 4, 2, 1\n",
    "    \n",
    "    # Lower bound from s(k-1)\n",
    "    l_nrr, l_nr, l_n = s(k-1)\n",
    "    lower_bound = l_nrr + l_nr + l_n\n",
    "    \n",
    "    # Find our first guess of n (the smallest of the series) then improve\n",
    "    primes, counts = prime_counts(k)\n",
    "    rep_counts = make_small(counts)\n",
    "    n = multiply(primes, rep_counts)\n",
    "    \n",
    "    factor = k // n\n",
    "    if factor > 1:\n",
    "        square_factor = smallest_square(factor) ** 2\n",
    "        n *= square_factor\n",
    "        return k, int(np.sqrt(n * k)), n\n",
    "    else:\n",
    "        return s(k-1)"
   ]
  },
  {
   "cell_type": "code",
   "execution_count": 145,
   "metadata": {
    "collapsed": false
   },
   "outputs": [
    {
     "data": {
      "text/plain": [
       "(20, 10, 5)"
      ]
     },
     "execution_count": 145,
     "metadata": {},
     "output_type": "execute_result"
    }
   ],
   "source": [
    "s(20)"
   ]
  },
  {
   "cell_type": "code",
   "execution_count": 81,
   "metadata": {
    "collapsed": false
   },
   "outputs": [
    {
     "data": {
      "text/plain": [
       "[1]"
      ]
     },
     "execution_count": 81,
     "metadata": {},
     "output_type": "execute_result"
    }
   ],
   "source": [
    "9 + 6 + 4"
   ]
  },
  {
   "cell_type": "code",
   "execution_count": 65,
   "metadata": {
    "collapsed": false
   },
   "outputs": [
    {
     "data": {
      "text/plain": [
       "3150.0"
      ]
     },
     "execution_count": 65,
     "metadata": {},
     "output_type": "execute_result"
    }
   ],
   "source": [
    "154350/49"
   ]
  },
  {
   "cell_type": "code",
   "execution_count": 68,
   "metadata": {
    "collapsed": false
   },
   "outputs": [
    {
     "data": {
      "text/plain": [
       "(array([2, 3, 5, 7]), [1, 2, 2, 3])"
      ]
     },
     "execution_count": 68,
     "metadata": {},
     "output_type": "execute_result"
    }
   ],
   "source": [
    "prime_counts(154350)"
   ]
  },
  {
   "cell_type": "code",
   "execution_count": null,
   "metadata": {
    "collapsed": true
   },
   "outputs": [],
   "source": [
    "154350/"
   ]
  }
 ],
 "metadata": {
  "kernelspec": {
   "display_name": "Python 2",
   "language": "python",
   "name": "python2"
  },
  "language_info": {
   "codemirror_mode": {
    "name": "ipython",
    "version": 2
   },
   "file_extension": ".py",
   "mimetype": "text/x-python",
   "name": "python",
   "nbconvert_exporter": "python",
   "pygments_lexer": "ipython2",
   "version": "2.7.10"
  }
 },
 "nbformat": 4,
 "nbformat_minor": 0
}
