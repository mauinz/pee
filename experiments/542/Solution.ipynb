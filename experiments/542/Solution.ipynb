{
 "cells": [
  {
   "cell_type": "markdown",
   "metadata": {
    "collapsed": true
   },
   "source": [
    "Let $S(k)$ be the sum of three or more distinct positive integers having the following properties:\n",
    "\n",
    "\n",
    "No value exceeds k.\n",
    "The values form a geometric progression.\n",
    "The sum is maximal.\n",
    "\n",
    "$S(4) = 4 + 2 + 1 = 7$\n",
    "\n",
    "$S(10) = 9 + 6 + 4 = 19$\n",
    "\n",
    "$S(12) = 12 + 6 + 3 = 21$\n",
    "\n",
    "$S(1000) = 1000 + 900 + 810 + 729 = 3439$\n",
    "\n",
    "Let $T(n)= \\sum_{k=4}^{n}(−1)^{k}S(k)$.\n",
    "\n",
    "$T(1000) = 2268$\n",
    "\n",
    "Find $T(10^17)$."
   ]
  },
  {
   "cell_type": "markdown",
   "metadata": {},
   "source": [
    "$S(k) = n(1 + r + r^2)$\n",
    "\n",
    "notice that for a geometric series $a, b, c$ we have that $b^2 = ac$"
   ]
  },
  {
   "cell_type": "code",
   "execution_count": 10,
   "metadata": {
    "collapsed": false
   },
   "outputs": [],
   "source": [
    "import numpy as np\n",
    "from __future__ import division"
   ]
  },
  {
   "cell_type": "code",
   "execution_count": 116,
   "metadata": {
    "collapsed": false
   },
   "outputs": [],
   "source": [
    "# Helper function to get prime decomposition\n",
    "def get_primes(n):\n",
    "    prim_fac = []\n",
    "    d = 2\n",
    "    while d*d <= n:\n",
    "        while (n % d) == 0:\n",
    "            prim_fac.append(d)  # supposing you want multiple factors repeated\n",
    "            n //= d\n",
    "        d += 1\n",
    "    if n > 1:\n",
    "       prim_fac.append(n)\n",
    "    return prim_fac\n",
    "\n",
    "def prime_counts(n):\n",
    "    prim_fac = get_primes(n)\n",
    "    unique = np.unique(prim_fac)\n",
    "    counts = [prim_fac.count(p) for p in unique]\n",
    "    return unique, counts\n",
    "\n",
    "def make_even(counts):\n",
    "    return [count - (count % 2) for count in counts]\n",
    "\n",
    "def multiply(prime_nums, counts):\n",
    "    prod = 1\n",
    "    for i in range(len(prime_nums)):\n",
    "        prod *= prime_nums[i] ** counts[i]\n",
    "    return prod"
   ]
  },
  {
   "cell_type": "code",
   "execution_count": 117,
   "metadata": {
    "collapsed": false
   },
   "outputs": [],
   "source": [
    "def ssum(n, r_n, r_d):\n",
    "    # n = first value of geometric sum\n",
    "    # r_n = r numerator\n",
    "    # r_d = r denominto \n",
    "\n",
    "    return n + (n * (r_n / r_d)) + (n * (r_n / r_d)**2)\n",
    "\n",
    "def s(k):\n",
    "    # returns sum, n, r. \n",
    "    if k == 4:\n",
    "        return 4, 2, 1\n",
    "    primes, counts = prime_counts(k)\n",
    "    rep_counts = make_even(counts)\n",
    "    if multiply(primes, rep_counts) < k:\n",
    "        return k, int(np.sqrt(multiply(primes, rep_counts) * k)), multiply(primes, rep_counts) \n",
    "    else:\n",
    "        return s(k-1)\n"
   ]
  },
  {
   "cell_type": "code",
   "execution_count": 118,
   "metadata": {
    "collapsed": false
   },
   "outputs": [
    {
     "name": "stdout",
     "output_type": "stream",
     "text": [
      "[0, 0]\n",
      "3\n"
     ]
    }
   ],
   "source": [
    "primes, counts = prime_counts(6)\n",
    "rep_counts = make_even(counts)\n",
    "print rep_counts\n",
    "print primes[1]"
   ]
  },
  {
   "cell_type": "code",
   "execution_count": 119,
   "metadata": {
    "collapsed": false
   },
   "outputs": [
    {
     "data": {
      "text/plain": [
       "(1000, 316, 100)"
      ]
     },
     "execution_count": 119,
     "metadata": {},
     "output_type": "execute_result"
    }
   ],
   "source": [
    "s(1000)"
   ]
  },
  {
   "cell_type": "code",
   "execution_count": 56,
   "metadata": {
    "collapsed": false
   },
   "outputs": [
    {
     "name": "stdout",
     "output_type": "stream",
     "text": [
      "[5] [1]\n"
     ]
    }
   ],
   "source": [
    "print primes, counts"
   ]
  },
  {
   "cell_type": "code",
   "execution_count": 60,
   "metadata": {
    "collapsed": false
   },
   "outputs": [
    {
     "data": {
      "text/plain": [
       "5"
      ]
     },
     "execution_count": 60,
     "metadata": {},
     "output_type": "execute_result"
    }
   ],
   "source": [
    "rep_count = make_even(counts)\n",
    "multiply(primes, rep_count)"
   ]
  },
  {
   "cell_type": "code",
   "execution_count": null,
   "metadata": {
    "collapsed": true
   },
   "outputs": [],
   "source": []
  }
 ],
 "metadata": {
  "kernelspec": {
   "display_name": "Python 2",
   "language": "python",
   "name": "python2"
  },
  "language_info": {
   "codemirror_mode": {
    "name": "ipython",
    "version": 2
   },
   "file_extension": ".py",
   "mimetype": "text/x-python",
   "name": "python",
   "nbconvert_exporter": "python",
   "pygments_lexer": "ipython2",
   "version": "2.7.6"
  }
 },
 "nbformat": 4,
 "nbformat_minor": 0
}
