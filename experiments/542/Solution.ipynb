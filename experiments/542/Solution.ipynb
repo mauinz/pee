{
 "cells": [
  {
   "cell_type": "markdown",
   "metadata": {
    "collapsed": true
   },
   "source": [
    "Let $S(k)$ be the sum of three or more distinct positive integers having the following properties:\n",
    "\n",
    "\n",
    "No value exceeds k.\n",
    "The values form a geometric progression.\n",
    "The sum is maximal.\n",
    "\n",
    "$S(4) = 4 + 2 + 1 = 7$\n",
    "\n",
    "$S(10) = 9 + 6 + 4 = 19$\n",
    "\n",
    "$S(12) = 12 + 6 + 3 = 21$\n",
    "\n",
    "$S(1000) = 1000 + 900 + 810 + 729 = 3439$\n",
    "\n",
    "Let $T(n)= \\sum_{k=4}^{n}(−1)^{k}S(k)$.\n",
    "\n",
    "$T(1000) = 2268$\n",
    "\n",
    "Find $T(10^{17})$."
   ]
  },
  {
   "cell_type": "markdown",
   "metadata": {},
   "source": [
    "### Facts\n",
    "\n",
    "$S(k) = n(1 + r + r^2)$\n",
    "\n",
    "For a geometric series $(nr^2, nr, n) = (a, b, c)$ we have that $b^2 = ac$\n",
    "\n",
    "### Ideas\n",
    "##### 3 case \n",
    "Find the prime decomposition of $k = p_1^{\\gamma_1} \\cdot ... \\cdot p_l^{\\gamma_l}$ and find the smallest square we can take out, let $k'$ be $k$ divided by this smallest factor. This insures that $k \\cdot k'$ is still square. This is our first best guess at $c$ (since we know $ac$ is definately square by this procedure). Then find the factor $f = \\frac{k}{k'}$, we know that $fk' \\leq k$. so we can find the largest square number $\\hat{f} \\leq f$ and we have that (obviously) $\\hat{f}k' \\leq k'$ and since $\\hat{f}$ is square $\\hat{f}k'k$ is also still square and $b = \\sqrt{\\hat{f}k'k}$\n",
    "\n",
    "##### highest $r$ for $ar^2, ar, a$\n",
    "Given the prime decomposition for a number $k = p_1^{f_1}\\cdot... \\cdot p_n^{f_n}$ the largest candidate for $r$ is $p_1^{\\lfloor \\frac{f_1}{2}\\rfloor} \\cdot ... \\cdot p_n^{\\lfloor \\frac{f_n}{2}\\rfloor}$\n"
   ]
  },
  {
   "cell_type": "code",
   "execution_count": 2,
   "metadata": {
    "collapsed": false
   },
   "outputs": [
    {
     "name": "stderr",
     "output_type": "stream",
     "text": [
      "/vol/bitbucket/ml3613/gps/gpenv/local/lib/python2.7/site-packages/IPython/core/magics/extension.py:47: UserWarning: %install_ext` is deprecated, please distribute your extension as a python package.\n",
      "  \"as a python package.\", UserWarning)\n"
     ]
    },
    {
     "name": "stdout",
     "output_type": "stream",
     "text": [
      "Installed autotime.py. To use it, type:\n",
      "  %load_ext autotime\n"
     ]
    }
   ],
   "source": [
    "import numpy as np\n",
    "import primefac as pf\n",
    "from __future__ import division\n",
    "%install_ext https://raw.github.com/cpcloud/ipython-autotime/master/autotime.py\n",
    "%load_ext autotime"
   ]
  },
  {
   "cell_type": "markdown",
   "metadata": {
    "collapsed": false
   },
   "source": [
    "## Intial attempt using climbing s calcualtions from 4 up to k"
   ]
  },
  {
   "cell_type": "code",
   "execution_count": 11,
   "metadata": {
    "collapsed": false
   },
   "outputs": [
    {
     "name": "stdout",
     "output_type": "stream",
     "text": [
      "time: 34.6 ms\n"
     ]
    }
   ],
   "source": [
    "# Given a number in factorint form, turn to int\n",
    "def multiply(factors):\n",
    "    prod = 1\n",
    "    for key in factors:\n",
    "        prod *= key ** factors[key]\n",
    "    return int(prod)\n",
    "\n",
    "# Return the primes with floored(power/2)\n",
    "def get_highest_two(factors):\n",
    "    highest = {}\n",
    "    for key in factors:\n",
    "        if factors[key] >= 2:\n",
    "            highest[key] = factors[key]\n",
    "    for key in highest:\n",
    "        highest[key] = (highest[key] - (highest[key] % 2)) / 2\n",
    "    return highest\n",
    "\n",
    "# Given the numerator of r, get the largest candidate sequence\n",
    "def to_seq(k, numerator):\n",
    "    denominator = numerator - 1\n",
    "    seq = [k]\n",
    "    elem = k\n",
    "    while (elem * denominator) % numerator == 0:\n",
    "        elem = (elem * denominator) / numerator\n",
    "        seq.append(int(elem))\n",
    "    return seq\n",
    "\n",
    "# This returns the numerator and denominator or the r factor\n",
    "def get_r(k):\n",
    "    factors = pf.factorint(k)\n",
    "    numerator = multiply(get_highest_two(factors))\n",
    "    return numerator, numerator - 1\n",
    "\n",
    "# Main work horse\n",
    "def climb_s(k, base_seq):\n",
    "    if k == 4:\n",
    "        return [4, 2, 1]\n",
    "    numerator, denominator = get_r(k)\n",
    "    \n",
    "    if numerator > 1: # we have a sequence where k is at least ar^{3}\n",
    "        seq = to_seq(k, numerator)\n",
    "        if np.sum(base_seq) > np.sum(seq):\n",
    "            return base_seq\n",
    "        else:\n",
    "            return seq\n",
    "    else:\n",
    "        return base_seq\n",
    "\n",
    "# Just for testing\n",
    "def s(k, verbose=False):\n",
    "    seq = [0]\n",
    "    previous_seq = [0]\n",
    "    for i in range(4, k + 1):\n",
    "        previous_seq = seq\n",
    "        seq = climb_s(i, seq)\n",
    "        if verbose:\n",
    "            if seq != previous_seq:\n",
    "                print i, ':', pf.factorint(i), ':', seq\n",
    "    return seq\n",
    "\n",
    "def t(k):\n",
    "    total = 0\n",
    "    seq = [0]\n",
    "    for i in range(4, k + 1):\n",
    "        seq = climb_s(i, seq)\n",
    "        total += ((-1)**i) * np.sum(seq)\n",
    "    return total"
   ]
  },
  {
   "cell_type": "code",
   "execution_count": 24,
   "metadata": {
    "collapsed": false
   },
   "outputs": [
    {
     "data": {
      "text/plain": [
       "1869227"
      ]
     },
     "execution_count": 24,
     "metadata": {},
     "output_type": "execute_result"
    },
    {
     "name": "stdout",
     "output_type": "stream",
     "text": [
      "time: 29.3 s\n"
     ]
    }
   ],
   "source": [
    "t(10**6)"
   ]
  },
  {
   "cell_type": "code",
   "execution_count": 9,
   "metadata": {
    "collapsed": false
   },
   "outputs": [
    {
     "name": "stdout",
     "output_type": "stream",
     "text": [
      " time: 3.75 s\n"
     ]
    }
   ],
   "source": [
    "%prun t(10**5)"
   ]
  },
  {
   "cell_type": "markdown",
   "metadata": {},
   "source": [
    "## Testing optimisations"
   ]
  },
  {
   "cell_type": "code",
   "execution_count": 125,
   "metadata": {
    "collapsed": false
   },
   "outputs": [
    {
     "name": "stdout",
     "output_type": "stream",
     "text": [
      "time: 6.66 ms\n"
     ]
    }
   ],
   "source": [
    "def is_candidate(p):\n",
    "    factors = pf.factorint(p)\n",
    "    numerator = multiply(get_highest_two(factors))\n",
    "    if numerator > 1:\n",
    "        return True\n",
    "    else:\n",
    "        return False\n",
    "\n",
    "def check_list(lower, upper):\n",
    "    if upper - lower <= 10:\n",
    "        return [num for num in np.arange(lower, upper) if is_candidate(num)]\n",
    "    #candidates = [num for num in np.arange(k) if is_candidate(num)]\n",
    "    else:\n",
    "        pivot = int(np.round((upper - lower)/2.0))\n",
    "        candidates = np.concatenate([check_list(lower, lower + pivot),\n",
    "                                     check_list(lower + pivot, upper)],\n",
    "                                    axis = 0)\n",
    "    return candidates\n",
    "\n",
    "def efficient_t(k):\n",
    "    primes = pf.primes(np.sqrt(k))\n",
    "    "
   ]
  },
  {
   "cell_type": "code",
   "execution_count": 88,
   "metadata": {
    "collapsed": false
   },
   "outputs": [
    {
     "name": "stdout",
     "output_type": "stream",
     "text": [
      "time: 1.63 ms\n"
     ]
    }
   ],
   "source": [
    "primes = pf.primes(np.sqrt(101))"
   ]
  },
  {
   "cell_type": "code",
   "execution_count": 133,
   "metadata": {
    "collapsed": false
   },
   "outputs": [
    {
     "name": "stdout",
     "output_type": "stream",
     "text": [
      "391\n",
      "0.391\n",
      "time: 27.2 ms\n"
     ]
    }
   ],
   "source": [
    "k = 10 ** 3\n",
    "list_to_check = check_list(0, k)\n",
    "print len(list_to_check)\n",
    "print len(list_to_check)/k"
   ]
  },
  {
   "cell_type": "code",
   "execution_count": null,
   "metadata": {
    "collapsed": true
   },
   "outputs": [],
   "source": []
  }
 ],
 "metadata": {
  "kernelspec": {
   "display_name": "Python 2",
   "language": "python",
   "name": "python2"
  },
  "language_info": {
   "codemirror_mode": {
    "name": "ipython",
    "version": 2
   },
   "file_extension": ".py",
   "mimetype": "text/x-python",
   "name": "python",
   "nbconvert_exporter": "python",
   "pygments_lexer": "ipython2",
   "version": "2.7.6"
  }
 },
 "nbformat": 4,
 "nbformat_minor": 0
}
