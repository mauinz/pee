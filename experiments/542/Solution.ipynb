{
 "cells": [
  {
   "cell_type": "markdown",
   "metadata": {
    "collapsed": true
   },
   "source": [
    "Let $S(k)$ be the sum of three or more distinct positive integers having the following properties:\n",
    "\n",
    "\n",
    "No value exceeds k.\n",
    "The values form a geometric progression.\n",
    "The sum is maximal.\n",
    "\n",
    "$S(4) = 4 + 2 + 1 = 7$\n",
    "\n",
    "$S(10) = 9 + 6 + 4 = 19$\n",
    "\n",
    "$S(12) = 12 + 6 + 3 = 21$\n",
    "\n",
    "$S(1000) = 1000 + 900 + 810 + 729 = 3439$\n",
    "\n",
    "Let $T(n)= \\sum_{k=4}^{n}(−1)^{k}S(k)$.\n",
    "\n",
    "$T(1000) = 2268$\n",
    "\n",
    "Find $T(10^{17})$."
   ]
  },
  {
   "cell_type": "markdown",
   "metadata": {},
   "source": [
    "### Facts\n",
    "\n",
    "$S(k) = n(1 + r + r^2)$\n",
    "\n",
    "For a geometric series $(nr^2, nr, n) = (a, b, c)$ we have that $b^2 = ac$\n",
    "\n",
    "### Ideas\n",
    "##### 3 case \n",
    "Find the prime decomposition of $k = p_1^{\\gamma_1} \\cdot ... \\cdot p_l^{\\gamma_l}$ and find the smallest square we can take out, let $k'$ be $k$ divided by this smallest factor. This insures that $k \\cdot k'$ is still square. This is our first best guess at $c$ (since we know $ac$ is definately square by this procedure). Then find the factor $f = \\frac{k}{k'}$, we know that $fk' \\leq k$. so we can find the largest square number $\\hat{f} \\leq f$ and we have that (obviously) $\\hat{f}k' \\leq k'$ and since $\\hat{f}$ is square $\\hat{f}k'k$ is also still square and $b = \\sqrt{\\hat{f}k'k}$"
   ]
  },
  {
   "cell_type": "code",
   "execution_count": 144,
   "metadata": {
    "collapsed": false
   },
   "outputs": [
    {
     "name": "stdout",
     "output_type": "stream",
     "text": [
      "Installed autotime.py. To use it, type:\n",
      "  %load_ext autotime\n"
     ]
    }
   ],
   "source": [
    "import numpy as np\n",
    "import primefac as pf\n",
    "from __future__ import division\n",
    "%install_ext https://raw.github.com/cpcloud/ipython-autotime/master/autotime.py\n",
    "%load_ext autotime"
   ]
  },
  {
   "cell_type": "code",
   "execution_count": 212,
   "metadata": {
    "collapsed": false
   },
   "outputs": [
    {
     "name": "stdout",
     "output_type": "stream",
     "text": [
      "time: 5.7 ms\n"
     ]
    }
   ],
   "source": [
    "# Helper function to get prime decomposition\n",
    "def make_small(factors):\n",
    "    # we are going to find the smallest power of 2 and subtract it\n",
    "    for key in factors:\n",
    "        if factors[key] > 1:\n",
    "            factors[key] = factors[key] - 2\n",
    "            return factors\n",
    "    return factors\n",
    "\n",
    "def make_even(factors):\n",
    "    for key in factors:\n",
    "        return np.array([count - (count % 2) for count in counts])\n",
    "\n",
    "def multiply(factors):\n",
    "    prod = 1\n",
    "    for key in factors:\n",
    "        prod *= key ** factors[key]\n",
    "    return int(prod)"
   ]
  },
  {
   "cell_type": "code",
   "execution_count": 213,
   "metadata": {
    "collapsed": false
   },
   "outputs": [
    {
     "name": "stdout",
     "output_type": "stream",
     "text": [
      "time: 6.44 ms\n"
     ]
    }
   ],
   "source": [
    "def s(k):\n",
    "    # Base case\n",
    "    if k == 4:\n",
    "        return [4, 2, 1]\n",
    "    \n",
    "    # Lower bound from s(k-1)\n",
    "    lower_bound = np.sum(s(k-1))\n",
    "    \n",
    "    # Find our first guess of n (the smallest of the series) then improve\n",
    "    prime_factors = pf.factorint(k)\n",
    "    n_factors = make_small_(prime_factors)\n",
    "    n = multiply(n_factors)\n",
    "    factor = k // n\n",
    "    if factor > 1:\n",
    "        square_factor = pf.introot(n, r=2)\n",
    "        n *= square_factor\n",
    "        return [k, int(np.sqrt(n * k)), n]\n",
    "    else:\n",
    "        return s(k-1)"
   ]
  },
  {
   "cell_type": "code",
   "execution_count": 336,
   "metadata": {
    "collapsed": false
   },
   "outputs": [
    {
     "name": "stdout",
     "output_type": "stream",
     "text": [
      "time: 42.7 ms\n"
     ]
    }
   ],
   "source": [
    "def get_highest_two(factors):\n",
    "    highest = {}\n",
    "    for key in factors:\n",
    "        if factors[key] >= 2:\n",
    "            highest[key] = factors[key]\n",
    "    for key in highest:\n",
    "        highest[key] = (highest[key] - (highest[key] % 2)) / 2\n",
    "    return highest\n",
    "\n",
    "def to_seq(k, numerator):\n",
    "    denominator = numerator - 1\n",
    "    seq = [k]\n",
    "    elem = k\n",
    "    while (elem * denominator) % numerator == 0:\n",
    "        elem = (elem * denominator) / numerator\n",
    "        seq.append(int(elem))\n",
    "    return seq\n",
    "\n",
    "def get_r(k):\n",
    "    factors = pf.factorint(k)\n",
    "    numerator = multiply(get_highest_two(factors))\n",
    "    return numerator, numerator - 1\n",
    "\n",
    "def s_(k):\n",
    "    if k == 4:\n",
    "        return [4, 2, 1]\n",
    "    numerator, denominator = get_r(k)\n",
    "    l_numerator, l_denomintor = get_r(k - 1)\n",
    "    if denominator > 0: # we have a sequence where k is at least ar^{3}\n",
    "        if l_denomintor > 0:\n",
    "            if (l_numerator/(l_numerator - 1)) <= (numerator/(numerator - 1)):\n",
    "                base_seq = s(k - 1)\n",
    "                seq = to_seq(k, numerator)\n",
    "                if np.sum(base_seq) > np.sum(seq):\n",
    "                    return base_seq\n",
    "                else:\n",
    "                    return seq\n",
    "        return to_seq(k, numerator)\n",
    "    else:\n",
    "        return s(k-1)\n",
    "\n",
    "def s(k):\n",
    "    if k == 4:\n",
    "        return [4, 2, 1]\n",
    "    numerator, denominator = get_r(k)\n",
    "    if denominator > 0: # we have a sequence where k is at least ar^{3}\n",
    "        if len(pf.factorint(numerator)) < 3:\n",
    "            base_seq = s(k - 1)\n",
    "            seq = to_seq(k, numerator)\n",
    "            if np.sum(base_seq) > np.sum(seq):\n",
    "                return base_seq\n",
    "            else:\n",
    "                return seq\n",
    "        return to_seq(k, numerator)\n",
    "    else:\n",
    "        return s(k-1)\n",
    "    \n",
    "def t(n):\n",
    "    total = 0\n",
    "    for i in range(4, n + 1):\n",
    "        total += ((-1)**i) * np.sum(s(i))\n",
    "    return total"
   ]
  },
  {
   "cell_type": "code",
   "execution_count": 337,
   "metadata": {
    "collapsed": false
   },
   "outputs": [
    {
     "data": {
      "text/plain": [
       "[100, 90, 81]"
      ]
     },
     "execution_count": 337,
     "metadata": {},
     "output_type": "execute_result"
    },
    {
     "name": "stdout",
     "output_type": "stream",
     "text": [
      "time: 3.8 ms\n"
     ]
    }
   ],
   "source": [
    "s(100)"
   ]
  },
  {
   "cell_type": "code",
   "execution_count": 338,
   "metadata": {
    "collapsed": false
   },
   "outputs": [
    {
     "name": "stdout",
     "output_type": "stream",
     "text": [
      "time: 6.64 s\n"
     ]
    }
   ],
   "source": [
    "l_seq = [0]\n",
    "for i in range(4,1000):\n",
    "    seq = s(i)\n",
    "    if np.sum(seq) < np.sum(l_seq):\n",
    "        print i-1, l_seq, np.sum(l_seq)\n",
    "        print '*', i, seq, np.sum(seq)\n",
    "    l_seq = seq"
   ]
  },
  {
   "cell_type": "code",
   "execution_count": 335,
   "metadata": {
    "collapsed": false
   },
   "outputs": [
    {
     "data": {
      "text/plain": [
       "{2: 3, 11: 2}"
      ]
     },
     "execution_count": 335,
     "metadata": {},
     "output_type": "execute_result"
    },
    {
     "name": "stdout",
     "output_type": "stream",
     "text": [
      "time: 1.74 ms\n"
     ]
    }
   ],
   "source": [
    "pf.factorint(968)"
   ]
  },
  {
   "cell_type": "code",
   "execution_count": 102,
   "metadata": {
    "collapsed": false
   },
   "outputs": [
    {
     "data": {
      "text/plain": [
       "4395"
      ]
     },
     "execution_count": 102,
     "metadata": {},
     "output_type": "execute_result"
    }
   ],
   "source": [
    "np.sum(s(23456))"
   ]
  },
  {
   "cell_type": "code",
   "execution_count": null,
   "metadata": {
    "collapsed": true
   },
   "outputs": [],
   "source": []
  }
 ],
 "metadata": {
  "kernelspec": {
   "display_name": "Python 2",
   "language": "python",
   "name": "python2"
  },
  "language_info": {
   "codemirror_mode": {
    "name": "ipython",
    "version": 2
   },
   "file_extension": ".py",
   "mimetype": "text/x-python",
   "name": "python",
   "nbconvert_exporter": "python",
   "pygments_lexer": "ipython2",
   "version": "2.7.10"
  }
 },
 "nbformat": 4,
 "nbformat_minor": 0
}
